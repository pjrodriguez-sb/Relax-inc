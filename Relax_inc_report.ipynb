{
 "metadata": {
  "language_info": {
   "codemirror_mode": {
    "name": "ipython",
    "version": 3
   },
   "file_extension": ".py",
   "mimetype": "text/x-python",
   "name": "python",
   "nbconvert_exporter": "python",
   "pygments_lexer": "ipython3",
   "version": 3
  },
  "orig_nbformat": 2
 },
 "nbformat": 4,
 "nbformat_minor": 2,
 "cells": [
  {
   "source": [
    "# Relax Inc. Report"
   ],
   "cell_type": "markdown",
   "metadata": {}
  },
  {
   "source": [
    "The folder contains 2 CSV files, first, \"takehome_users,\" including 12,000 users signed up for the product in the last two years, and second, \"takehome_user_engagement,\" which has a row for each day that a user logged into the product. I found non-adopted users were increasing throughout the year and were significantly higher than adopted users. On the other hand, the adopted user shows consistently throughout the year until 2014, starting declining. \n",
    "\n",
    "![](pic1.jpg)\n",
    "\n",
    "Then, I investigate the creation sources to see which methods were more effective to invite users and how this impacted the adopted and non-adopted users. Interestingly, 84% of non-adopted users were from Sign-up only, and 23.24% of adopted users come from Guest Invite. Meaning the adopted users are more encourage to signup by been invited. \n",
    "\n",
    "![](pic2.jpg)"
   ],
   "cell_type": "markdown",
   "metadata": {}
  },
  {
   "cell_type": "code",
   "execution_count": null,
   "metadata": {},
   "outputs": [],
   "source": []
  }
 ]
}